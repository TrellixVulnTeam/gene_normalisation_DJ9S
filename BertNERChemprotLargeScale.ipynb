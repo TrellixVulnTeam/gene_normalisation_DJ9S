{
 "cells": [
  {
   "cell_type": "markdown",
   "metadata": {},
   "source": [
    "# Chemprot: Bert NER on Pubmed Abstracts using PyTorch Prediction\n",
    "\n",
    "\n"
   ]
  },
  {
   "cell_type": "code",
   "execution_count": 1,
   "metadata": {},
   "outputs": [],
   "source": [
    "import sys, os\n",
    "import logging\n",
    "\n",
    "sys.path.append(\"src\")\n",
    "\n",
    "logging.basicConfig(level=\"INFO\", handlers=[logging.StreamHandler(sys.stdout)],\n",
    "                        format='%(asctime)s - %(name)s - %(levelname)s - %(message)s')"
   ]
  },
  {
   "cell_type": "code",
   "execution_count": 2,
   "metadata": {},
   "outputs": [],
   "source": [
    "training_job = \"chemprot-ner-bert-2022-07-23-21-56-34-969\""
   ]
  },
  {
   "cell_type": "code",
   "execution_count": 3,
   "metadata": {},
   "outputs": [],
   "source": [
    "local_temp=\"temp\""
   ]
  },
  {
   "cell_type": "code",
   "execution_count": 4,
   "metadata": {},
   "outputs": [],
   "source": [
    "!rm -rf $local_temp\n",
    "!mkdir -p $local_temp"
   ]
  },
  {
   "cell_type": "markdown",
   "metadata": {},
   "source": [
    "### Bucket and role set up"
   ]
  },
  {
   "cell_type": "code",
   "execution_count": 5,
   "metadata": {},
   "outputs": [],
   "source": [
    "\n",
    "s3_uri_pubmedjson = \"s3://aegovan-data/pubmed-json/pubmed19n06\"\n",
    "\n",
    "s3_output_base = \"s3://aegovan-data/chemprotnerlargescale/\"\n",
    "s3_code_path = \"s3://aegovan-data/chemprotnercode\"\n"
   ]
  },
  {
   "cell_type": "code",
   "execution_count": 6,
   "metadata": {},
   "outputs": [
    {
     "name": "stdout",
     "output_type": "stream",
     "text": [
      "2022-07-24 17:55:16,574 - botocore.credentials - INFO - Found credentials in shared credentials file: ~/.aws/credentials\n",
      "2022-07-24 17:55:16,656 - botocore.credentials - INFO - Found credentials in shared credentials file: ~/.aws/credentials\n"
     ]
    }
   ],
   "source": [
    "import boto3\n",
    "\n",
    "#from sagemaker import get_execution_role\n",
    "\n",
    "import sagemaker.session \n",
    "sm_session = sagemaker.session.Session()\n",
    "account_id =  boto3.client('sts').get_caller_identity().get('Account')\n",
    "\n",
    "# role=get_execution_role()\n",
    "role =\"arn:aws:iam::{}:role/service-role/AmazonSageMaker-ExecutionRole-20181222T162635\".format(account_id)\n"
   ]
  },
  {
   "cell_type": "markdown",
   "metadata": {},
   "source": [
    "## Predict\n",
    "\n",
    "This shows you how to train BERT on SageMaker using SPOT instances"
   ]
  },
  {
   "cell_type": "code",
   "execution_count": 7,
   "metadata": {},
   "outputs": [],
   "source": [
    "instance_type = \"ml.p3.2xlarge\"\n",
    "instance_count=1"
   ]
  },
  {
   "cell_type": "code",
   "execution_count": 8,
   "metadata": {},
   "outputs": [
    {
     "name": "stdout",
     "output_type": "stream",
     "text": [
      "\n",
      "2022-07-23 22:40:11 Starting - Preparing the instances for training\n",
      "2022-07-23 22:40:11 Downloading - Downloading input data\n",
      "2022-07-23 22:40:11 Training - Training image download completed. Training in progress.\n",
      "2022-07-23 22:40:11 Uploading - Uploading generated training model\n",
      "2022-07-23 22:40:11 Completed - Training job completed\n"
     ]
    },
    {
     "data": {
      "text/plain": [
       "'s3://aegovan-data/chemprotner/output/chemprot-ner-bert-2022-07-23-21-56-34-969/output/model.tar.gz'"
      ]
     },
     "execution_count": 8,
     "metadata": {},
     "output_type": "execute_result"
    }
   ],
   "source": [
    "import sagemaker\n",
    "estimator = sagemaker.estimator.Estimator.attach(training_job)\n",
    "model_uri = estimator.model_data\n",
    "model_uri"
   ]
  },
  {
   "cell_type": "code",
   "execution_count": 9,
   "metadata": {},
   "outputs": [],
   "source": [
    "# set True if you need spot instance\n",
    "use_spot = False\n",
    "max_run_secs =   5 *24 * 60 * 60\n",
    "spot_wait_sec =  5 * 60\n",
    "max_wait_time_secs = max_run_secs +  spot_wait_sec\n",
    "\n",
    "if not use_spot:\n",
    "    max_wait_time_secs = None\n",
    "    \n",
    "# During local mode, no spot.., use smaller dataset\n",
    "if instance_type == 'local':\n",
    "    use_spot = False\n",
    "    max_wait_time_secs = 0\n",
    "    wait = True\n",
    "   "
   ]
  },
  {
   "cell_type": "code",
   "execution_count": 10,
   "metadata": {},
   "outputs": [
    {
     "data": {
      "text/plain": [
       "'chemprot-ner-largescale-20220724175517'"
      ]
     },
     "execution_count": 10,
     "metadata": {},
     "output_type": "execute_result"
    }
   ],
   "source": [
    "job_type = \"chemprot-ner-largescale\"\n",
    "\n",
    "from datetime import datetime\n",
    "job_name = \"{}-{}\".format(job_type,datetime.now().strftime(\"%Y%m%d%H%M%S\"))\n",
    "job_name"
   ]
  },
  {
   "cell_type": "code",
   "execution_count": 11,
   "metadata": {},
   "outputs": [
    {
     "name": "stdout",
     "output_type": "stream",
     "text": [
      "2022-07-24 17:55:19,658 - sagemaker.processing - INFO - Uploaded src to s3://aegovan-data/chemprotnercode/chemprot-ner-largescale-20220724175517/source/sourcedir.tar.gz\n",
      "2022-07-24 17:55:20,139 - sagemaker.processing - INFO - runproc.sh uploaded to s3://aegovan-data/chemprotnercode/chemprot-ner-largescale-20220724175517/source/runproc.sh\n",
      "\n",
      "Job Name:  chemprot-ner-largescale-20220724175517\n",
      "Inputs:  [{'InputName': 'input-1', 'AppManaged': False, 'S3Input': {'S3Uri': 's3://aegovan-data/pubmed-json/pubmed19n06', 'LocalPath': '/opt/ml/processing/input/data', 'S3DataType': 'S3Prefix', 'S3InputMode': 'File', 'S3DataDistributionType': 'ShardedByS3Key', 'S3CompressionType': 'None'}}, {'InputName': 'input-2', 'AppManaged': False, 'S3Input': {'S3Uri': 's3://aegovan-data/chemprotner/output/chemprot-ner-bert-2022-07-23-21-56-34-969/output/model.tar.gz', 'LocalPath': '/opt/ml/processing/input/model', 'S3DataType': 'S3Prefix', 'S3InputMode': 'File', 'S3DataDistributionType': 'FullyReplicated', 'S3CompressionType': 'None'}}, {'InputName': 'code', 'AppManaged': False, 'S3Input': {'S3Uri': 's3://aegovan-data/chemprotnercode/chemprot-ner-largescale-20220724175517/source/sourcedir.tar.gz', 'LocalPath': '/opt/ml/processing/input/code/', 'S3DataType': 'S3Prefix', 'S3InputMode': 'File', 'S3DataDistributionType': 'FullyReplicated', 'S3CompressionType': 'None'}}, {'InputName': 'entrypoint', 'AppManaged': False, 'S3Input': {'S3Uri': 's3://aegovan-data/chemprotnercode/chemprot-ner-largescale-20220724175517/source/runproc.sh', 'LocalPath': '/opt/ml/processing/input/entrypoint', 'S3DataType': 'S3Prefix', 'S3InputMode': 'File', 'S3DataDistributionType': 'FullyReplicated', 'S3CompressionType': 'None'}}]\n",
      "Outputs:  [{'OutputName': 'output', 'AppManaged': False, 'S3Output': {'S3Uri': 's3://aegovan-data/chemprotnerlargescale/chemprot-ner-largescale-20220724175517', 'LocalPath': '/opt/ml/processing/output/data', 'S3UploadMode': 'EndOfJob'}}]\n",
      "2022-07-24 17:55:20,142 - sagemaker - INFO - Creating processing-job with name chemprot-ner-largescale-20220724175517\n"
     ]
    },
    {
     "ename": "ClientError",
     "evalue": "An error occurred (ValidationException) when calling the CreateProcessingJob operation: 1 validation error detected: Value 'ml.p3.3xlarge' at 'processingResources.clusterConfig.instanceType' failed to satisfy constraint: Member must satisfy enum value set: [ml.r5.12xlarge, ml.m5.4xlarge, ml.p2.xlarge, ml.m4.16xlarge, ml.r5.24xlarge, ml.t3.xlarge, ml.r5.16xlarge, ml.m5.large, ml.p3.16xlarge, ml.p2.16xlarge, ml.c4.2xlarge, ml.c5.2xlarge, ml.c4.4xlarge, ml.c5.4xlarge, ml.g4dn.xlarge, ml.g4dn.12xlarge, ml.g4dn.2xlarge, ml.c4.8xlarge, ml.g4dn.4xlarge, ml.c5.9xlarge, ml.g4dn.16xlarge, ml.c5.xlarge, ml.c4.xlarge, ml.g4dn.8xlarge, ml.t3.2xlarge, ml.t3.medium, ml.c5.18xlarge, ml.r5.2xlarge, ml.p3.2xlarge, ml.m5.xlarge, ml.m4.10xlarge, ml.r5.4xlarge, ml.m5.12xlarge, ml.m4.xlarge, ml.t3.large, ml.m5.24xlarge, ml.m4.2xlarge, ml.m5.2xlarge, ml.p2.8xlarge, ml.r5.8xlarge, ml.r5.xlarge, ml.r5.large, ml.p3.8xlarge, ml.m4.4xlarge]",
     "output_type": "error",
     "traceback": [
      "\u001B[0;31m---------------------------------------------------------------------------\u001B[0m",
      "\u001B[0;31mClientError\u001B[0m                               Traceback (most recent call last)",
      "\u001B[0;32m/var/folders/7v/5_mr86mx7l9g94fxzdpdx0nw0000gn/T/ipykernel_5713/2083858248.py\u001B[0m in \u001B[0;36m<module>\u001B[0;34m\u001B[0m\n\u001B[1;32m     41\u001B[0m         ProcessingOutput(output_name='output', \n\u001B[1;32m     42\u001B[0m                          \u001B[0msource\u001B[0m\u001B[0;34m=\u001B[0m\u001B[0msm_output_local\u001B[0m\u001B[0;34m,\u001B[0m\u001B[0;34m\u001B[0m\u001B[0;34m\u001B[0m\u001B[0m\n\u001B[0;32m---> 43\u001B[0;31m                          destination=s3_output_uri)\n\u001B[0m\u001B[1;32m     44\u001B[0m             ]\n\u001B[1;32m     45\u001B[0m )\n",
      "\u001B[0;32m~/PycharmProjects/venv/gene_normalisation/lib/python3.7/site-packages/sagemaker/processing.py\u001B[0m in \u001B[0;36mrun\u001B[0;34m(self, code, source_dir, dependencies, git_config, inputs, outputs, arguments, wait, logs, job_name, experiment_config, kms_key)\u001B[0m\n\u001B[1;32m   1604\u001B[0m             \u001B[0mjob_name\u001B[0m\u001B[0;34m=\u001B[0m\u001B[0mjob_name\u001B[0m\u001B[0;34m,\u001B[0m\u001B[0;34m\u001B[0m\u001B[0;34m\u001B[0m\u001B[0m\n\u001B[1;32m   1605\u001B[0m             \u001B[0mexperiment_config\u001B[0m\u001B[0;34m=\u001B[0m\u001B[0mexperiment_config\u001B[0m\u001B[0;34m,\u001B[0m\u001B[0;34m\u001B[0m\u001B[0;34m\u001B[0m\u001B[0m\n\u001B[0;32m-> 1606\u001B[0;31m             \u001B[0mkms_key\u001B[0m\u001B[0;34m=\u001B[0m\u001B[0mkms_key\u001B[0m\u001B[0;34m,\u001B[0m\u001B[0;34m\u001B[0m\u001B[0;34m\u001B[0m\u001B[0m\n\u001B[0m\u001B[1;32m   1607\u001B[0m         )\n\u001B[1;32m   1608\u001B[0m \u001B[0;34m\u001B[0m\u001B[0m\n",
      "\u001B[0;32m~/PycharmProjects/venv/gene_normalisation/lib/python3.7/site-packages/sagemaker/processing.py\u001B[0m in \u001B[0;36mrun\u001B[0;34m(self, code, inputs, outputs, arguments, wait, logs, job_name, experiment_config, kms_key)\u001B[0m\n\u001B[1;32m    547\u001B[0m             \u001B[0minputs\u001B[0m\u001B[0;34m=\u001B[0m\u001B[0mnormalized_inputs\u001B[0m\u001B[0;34m,\u001B[0m\u001B[0;34m\u001B[0m\u001B[0;34m\u001B[0m\u001B[0m\n\u001B[1;32m    548\u001B[0m             \u001B[0moutputs\u001B[0m\u001B[0;34m=\u001B[0m\u001B[0mnormalized_outputs\u001B[0m\u001B[0;34m,\u001B[0m\u001B[0;34m\u001B[0m\u001B[0;34m\u001B[0m\u001B[0m\n\u001B[0;32m--> 549\u001B[0;31m             \u001B[0mexperiment_config\u001B[0m\u001B[0;34m=\u001B[0m\u001B[0mexperiment_config\u001B[0m\u001B[0;34m,\u001B[0m\u001B[0;34m\u001B[0m\u001B[0;34m\u001B[0m\u001B[0m\n\u001B[0m\u001B[1;32m    550\u001B[0m         )\n\u001B[1;32m    551\u001B[0m         \u001B[0mself\u001B[0m\u001B[0;34m.\u001B[0m\u001B[0mjobs\u001B[0m\u001B[0;34m.\u001B[0m\u001B[0mappend\u001B[0m\u001B[0;34m(\u001B[0m\u001B[0mself\u001B[0m\u001B[0;34m.\u001B[0m\u001B[0mlatest_job\u001B[0m\u001B[0;34m)\u001B[0m\u001B[0;34m\u001B[0m\u001B[0;34m\u001B[0m\u001B[0m\n",
      "\u001B[0;32m~/PycharmProjects/venv/gene_normalisation/lib/python3.7/site-packages/sagemaker/processing.py\u001B[0m in \u001B[0;36mstart_new\u001B[0;34m(cls, processor, inputs, outputs, experiment_config)\u001B[0m\n\u001B[1;32m    767\u001B[0m \u001B[0;34m\u001B[0m\u001B[0m\n\u001B[1;32m    768\u001B[0m         \u001B[0;31m# Call sagemaker_session.process using the arguments dictionary.\u001B[0m\u001B[0;34m\u001B[0m\u001B[0;34m\u001B[0m\u001B[0;34m\u001B[0m\u001B[0m\n\u001B[0;32m--> 769\u001B[0;31m         \u001B[0mprocessor\u001B[0m\u001B[0;34m.\u001B[0m\u001B[0msagemaker_session\u001B[0m\u001B[0;34m.\u001B[0m\u001B[0mprocess\u001B[0m\u001B[0;34m(\u001B[0m\u001B[0;34m**\u001B[0m\u001B[0mprocess_args\u001B[0m\u001B[0;34m)\u001B[0m\u001B[0;34m\u001B[0m\u001B[0;34m\u001B[0m\u001B[0m\n\u001B[0m\u001B[1;32m    770\u001B[0m \u001B[0;34m\u001B[0m\u001B[0m\n\u001B[1;32m    771\u001B[0m         return cls(\n",
      "\u001B[0;32m~/PycharmProjects/venv/gene_normalisation/lib/python3.7/site-packages/sagemaker/session.py\u001B[0m in \u001B[0;36mprocess\u001B[0;34m(self, inputs, output_config, job_name, resources, stopping_condition, app_specification, environment, network_config, role_arn, tags, experiment_config)\u001B[0m\n\u001B[1;32m    913\u001B[0m         \u001B[0mLOGGER\u001B[0m\u001B[0;34m.\u001B[0m\u001B[0minfo\u001B[0m\u001B[0;34m(\u001B[0m\u001B[0;34m\"Creating processing-job with name %s\"\u001B[0m\u001B[0;34m,\u001B[0m \u001B[0mjob_name\u001B[0m\u001B[0;34m)\u001B[0m\u001B[0;34m\u001B[0m\u001B[0;34m\u001B[0m\u001B[0m\n\u001B[1;32m    914\u001B[0m         \u001B[0mLOGGER\u001B[0m\u001B[0;34m.\u001B[0m\u001B[0mdebug\u001B[0m\u001B[0;34m(\u001B[0m\u001B[0;34m\"process request: %s\"\u001B[0m\u001B[0;34m,\u001B[0m \u001B[0mjson\u001B[0m\u001B[0;34m.\u001B[0m\u001B[0mdumps\u001B[0m\u001B[0;34m(\u001B[0m\u001B[0mprocess_request\u001B[0m\u001B[0;34m,\u001B[0m \u001B[0mindent\u001B[0m\u001B[0;34m=\u001B[0m\u001B[0;36m4\u001B[0m\u001B[0;34m)\u001B[0m\u001B[0;34m)\u001B[0m\u001B[0;34m\u001B[0m\u001B[0;34m\u001B[0m\u001B[0m\n\u001B[0;32m--> 915\u001B[0;31m         \u001B[0mself\u001B[0m\u001B[0;34m.\u001B[0m\u001B[0msagemaker_client\u001B[0m\u001B[0;34m.\u001B[0m\u001B[0mcreate_processing_job\u001B[0m\u001B[0;34m(\u001B[0m\u001B[0;34m**\u001B[0m\u001B[0mprocess_request\u001B[0m\u001B[0;34m)\u001B[0m\u001B[0;34m\u001B[0m\u001B[0;34m\u001B[0m\u001B[0m\n\u001B[0m\u001B[1;32m    916\u001B[0m \u001B[0;34m\u001B[0m\u001B[0m\n\u001B[1;32m    917\u001B[0m     def _get_process_request(\n",
      "\u001B[0;32m~/PycharmProjects/venv/gene_normalisation/lib/python3.7/site-packages/botocore/client.py\u001B[0m in \u001B[0;36m_api_call\u001B[0;34m(self, *args, **kwargs)\u001B[0m\n\u001B[1;32m    506\u001B[0m                 )\n\u001B[1;32m    507\u001B[0m             \u001B[0;31m# The \"self\" in this scope is referring to the BaseClient.\u001B[0m\u001B[0;34m\u001B[0m\u001B[0;34m\u001B[0m\u001B[0;34m\u001B[0m\u001B[0m\n\u001B[0;32m--> 508\u001B[0;31m             \u001B[0;32mreturn\u001B[0m \u001B[0mself\u001B[0m\u001B[0;34m.\u001B[0m\u001B[0m_make_api_call\u001B[0m\u001B[0;34m(\u001B[0m\u001B[0moperation_name\u001B[0m\u001B[0;34m,\u001B[0m \u001B[0mkwargs\u001B[0m\u001B[0;34m)\u001B[0m\u001B[0;34m\u001B[0m\u001B[0;34m\u001B[0m\u001B[0m\n\u001B[0m\u001B[1;32m    509\u001B[0m \u001B[0;34m\u001B[0m\u001B[0m\n\u001B[1;32m    510\u001B[0m         \u001B[0m_api_call\u001B[0m\u001B[0;34m.\u001B[0m\u001B[0m__name__\u001B[0m \u001B[0;34m=\u001B[0m \u001B[0mstr\u001B[0m\u001B[0;34m(\u001B[0m\u001B[0mpy_operation_name\u001B[0m\u001B[0;34m)\u001B[0m\u001B[0;34m\u001B[0m\u001B[0;34m\u001B[0m\u001B[0m\n",
      "\u001B[0;32m~/PycharmProjects/venv/gene_normalisation/lib/python3.7/site-packages/botocore/client.py\u001B[0m in \u001B[0;36m_make_api_call\u001B[0;34m(self, operation_name, api_params)\u001B[0m\n\u001B[1;32m    913\u001B[0m             \u001B[0merror_code\u001B[0m \u001B[0;34m=\u001B[0m \u001B[0mparsed_response\u001B[0m\u001B[0;34m.\u001B[0m\u001B[0mget\u001B[0m\u001B[0;34m(\u001B[0m\u001B[0;34m\"Error\"\u001B[0m\u001B[0;34m,\u001B[0m \u001B[0;34m{\u001B[0m\u001B[0;34m}\u001B[0m\u001B[0;34m)\u001B[0m\u001B[0;34m.\u001B[0m\u001B[0mget\u001B[0m\u001B[0;34m(\u001B[0m\u001B[0;34m\"Code\"\u001B[0m\u001B[0;34m)\u001B[0m\u001B[0;34m\u001B[0m\u001B[0;34m\u001B[0m\u001B[0m\n\u001B[1;32m    914\u001B[0m             \u001B[0merror_class\u001B[0m \u001B[0;34m=\u001B[0m \u001B[0mself\u001B[0m\u001B[0;34m.\u001B[0m\u001B[0mexceptions\u001B[0m\u001B[0;34m.\u001B[0m\u001B[0mfrom_code\u001B[0m\u001B[0;34m(\u001B[0m\u001B[0merror_code\u001B[0m\u001B[0;34m)\u001B[0m\u001B[0;34m\u001B[0m\u001B[0;34m\u001B[0m\u001B[0m\n\u001B[0;32m--> 915\u001B[0;31m             \u001B[0;32mraise\u001B[0m \u001B[0merror_class\u001B[0m\u001B[0;34m(\u001B[0m\u001B[0mparsed_response\u001B[0m\u001B[0;34m,\u001B[0m \u001B[0moperation_name\u001B[0m\u001B[0;34m)\u001B[0m\u001B[0;34m\u001B[0m\u001B[0;34m\u001B[0m\u001B[0m\n\u001B[0m\u001B[1;32m    916\u001B[0m         \u001B[0;32melse\u001B[0m\u001B[0;34m:\u001B[0m\u001B[0;34m\u001B[0m\u001B[0;34m\u001B[0m\u001B[0m\n\u001B[1;32m    917\u001B[0m             \u001B[0;32mreturn\u001B[0m \u001B[0mparsed_response\u001B[0m\u001B[0;34m\u001B[0m\u001B[0;34m\u001B[0m\u001B[0m\n",
      "\u001B[0;31mClientError\u001B[0m: An error occurred (ValidationException) when calling the CreateProcessingJob operation: 1 validation error detected: Value 'ml.p3.3xlarge' at 'processingResources.clusterConfig.instanceType' failed to satisfy constraint: Member must satisfy enum value set: [ml.r5.12xlarge, ml.m5.4xlarge, ml.p2.xlarge, ml.m4.16xlarge, ml.r5.24xlarge, ml.t3.xlarge, ml.r5.16xlarge, ml.m5.large, ml.p3.16xlarge, ml.p2.16xlarge, ml.c4.2xlarge, ml.c5.2xlarge, ml.c4.4xlarge, ml.c5.4xlarge, ml.g4dn.xlarge, ml.g4dn.12xlarge, ml.g4dn.2xlarge, ml.c4.8xlarge, ml.g4dn.4xlarge, ml.c5.9xlarge, ml.g4dn.16xlarge, ml.c5.xlarge, ml.c4.xlarge, ml.g4dn.8xlarge, ml.t3.2xlarge, ml.t3.medium, ml.c5.18xlarge, ml.r5.2xlarge, ml.p3.2xlarge, ml.m5.xlarge, ml.m4.10xlarge, ml.r5.4xlarge, ml.m5.12xlarge, ml.m4.xlarge, ml.t3.large, ml.m5.24xlarge, ml.m4.2xlarge, ml.m5.2xlarge, ml.p2.8xlarge, ml.r5.8xlarge, ml.r5.xlarge, ml.r5.large, ml.p3.8xlarge, ml.m4.4xlarge]"
     ]
    }
   ],
   "source": [
    "from sagemaker.pytorch.processing import PyTorchProcessor\n",
    "from sagemaker.processing import ProcessingInput, ProcessingOutput\n",
    "\n",
    "processor = PyTorchProcessor( role=role,\n",
    "                    framework_version =\"1.4.0\",\n",
    "                    code_location=s3_code_path,\n",
    "                    instance_count=1,\n",
    "                    instance_type=instance_type,\n",
    "                    max_runtime_in_seconds = max_run_secs,\n",
    "                    volume_size_in_gb=250\n",
    "                    )\n",
    "\n",
    "sm_data_local = '/opt/ml/processing/input/data'\n",
    "sm_model_local = '/opt/ml/processing/input/model'\n",
    "sm_output_local = '/opt/ml/processing/output/data'\n",
    "s3_output_uri = \"{}/{}\".format( s3_output_base.rstrip(\"/\"), job_name)\n",
    "\n",
    "processor.run(\n",
    "    job_name=job_name,\n",
    "    code='chemprot_batch_inference.py',\n",
    "    source_dir='src',\n",
    "    arguments = [\n",
    "        \"--inputdatadir\",sm_data_local,\n",
    "        \"--modeltar\", \"{}/{}\".format(sm_model_local,model_uri.split(\"/\")[-1]),\n",
    "        \"--outputdatadir\",sm_output_local,\n",
    "        \"--batchsize\", \"8\",\n",
    "    ],\n",
    "    inputs=[\n",
    "        ProcessingInput(\n",
    "            source=s3_uri_pubmedjson,\n",
    "            destination=sm_data_local,\n",
    "            s3_data_distribution_type = \"ShardedByS3Key\"\n",
    "        ),\n",
    "    ProcessingInput(\n",
    "            source=model_uri,\n",
    "            destination=sm_model_local,\n",
    "            s3_data_distribution_type = \"FullyReplicated\"\n",
    "        )\n",
    "    ],\n",
    "    outputs=[\n",
    "        ProcessingOutput(output_name='output', \n",
    "                         source=sm_output_local, \n",
    "                         destination=s3_output_uri)\n",
    "            ]\n",
    ")"
   ]
  }
 ],
 "metadata": {
  "kernelspec": {
   "display_name": "Python 3 (ipykernel)",
   "language": "python",
   "name": "python3"
  },
  "language_info": {
   "codemirror_mode": {
    "name": "ipython",
    "version": 3
   },
   "file_extension": ".py",
   "mimetype": "text/x-python",
   "name": "python",
   "nbconvert_exporter": "python",
   "pygments_lexer": "ipython3",
   "version": "3.7.9"
  }
 },
 "nbformat": 4,
 "nbformat_minor": 4
}